{
 "cells": [
  {
   "cell_type": "code",
   "execution_count": 1,
   "id": "37287744",
   "metadata": {},
   "outputs": [],
   "source": [
    "import numpy as np\n",
    "from sklearn.metrics import mean_squared_error\n",
    "from sklearn.datasets import make_regression\n",
    "from matplotlib import pyplot as plt\n",
    "from sklearn.preprocessing import StandardScaler\n",
    "import random\n",
    "import pandas as pd\n",
    "import time"
   ]
  },
  {
   "cell_type": "code",
   "execution_count": 2,
   "id": "b9bcfcf4",
   "metadata": {},
   "outputs": [
    {
     "name": "stdout",
     "output_type": "stream",
     "text": [
      "Истинные значения коэффициентов: [16.82365791 18.99347437  0.          0.          0.        ]\n"
     ]
    }
   ],
   "source": [
    "X, Y, coef = make_regression(n_samples=1000, n_features=5, n_informative=2, coef=True, random_state=42)\n",
    "print(f'Истинные значения коэффициентов: {coef}')"
   ]
  },
  {
   "cell_type": "code",
   "execution_count": 3,
   "id": "d9ead7cb",
   "metadata": {},
   "outputs": [
    {
     "name": "stdout",
     "output_type": "stream",
     "text": [
      "Стандартное отклонение признаков до стандартизации: 0.996380175855159\n",
      "Стандартное отклонение признаков после стандартизации: 0.9999999999999998\n"
     ]
    }
   ],
   "source": [
    "print(f'Стандартное отклонение признаков до стандартизации: {X.std()}')\n",
    "X = StandardScaler().fit_transform(X)\n",
    "print(f'Стандартное отклонение признаков после стандартизации: {X.std()}')"
   ]
  },
  {
   "cell_type": "markdown",
   "id": "a3f91923",
   "metadata": {},
   "source": [
    "### 1. Напишите функцию наподобие gradient_descent_reg_l2, но для применения L1-регуляризации.\n",
    "### 2. Сгенерируйте датасет при помощи <code>sklearn.datasets.make_regression</code> и обучите линейную модель при помощи градиентного и стохастического градиентного спуска. Нанесите среднеквадратичную ошибку для обоих методов на один график, сделайте выводы о разнице скорости сходимости каждого из методов."
   ]
  },
  {
   "cell_type": "code",
   "execution_count": 4,
   "id": "9c3dc0f6",
   "metadata": {},
   "outputs": [],
   "source": [
    "# Для масштабируемости графиков ниже зададим маленькое значение шага градиентного спуска\n",
    "eta = 1000"
   ]
  },
  {
   "cell_type": "code",
   "execution_count": 5,
   "id": "e5ff7c02",
   "metadata": {},
   "outputs": [],
   "source": [
    "# Подпрограмма L1 - регулизация\n",
    "def gradient_descent_reg_l1(X, Y, eta = 1000, las = 1e-2, max_iter = 1e4, min_delta_weight = 1e-8):\n",
    "    start = time.time()\n",
    "    errors = [np.inf, np.inf]\n",
    "    w_step = []\n",
    "    current_iter = 0\n",
    "    w = np.zeros(X.shape[1])\n",
    "    for i in range(w.shape[0]):\n",
    "        w[i] = 1e-2\n",
    "    \n",
    "    delta_weight = np.inf\n",
    "    while delta_weight > min_delta_weight and current_iter < max_iter:\n",
    "        \n",
    "        current_iter += 1\n",
    "    \n",
    "        y_pred = np.dot(X, w)\n",
    "        dQ = 2/Y.shape[0] * np.dot(X.T, y_pred - Y)\n",
    "        dLasso  = las * w / np.abs(w)\n",
    "\n",
    "        w_new = w - eta * (dQ + dLasso)\n",
    "        #print(f'w={w}\\ndQ={dQ}\\ndLasso={dLasso}')\n",
    "        delta_weight = np.linalg.norm(w-w_new, ord=2)\n",
    "        w_step.append(delta_weight)\n",
    "        \n",
    "        errors.append(mean_squared_error(Y, np.dot(X, w_new)))\n",
    "        w = w_new\n",
    "        \n",
    "        # Изменение направление, т.к. боюсь \"перепрыгнуть\" локальный мимнимум\n",
    "        # понимаю, что в данном случае решением будет локальный минимум\n",
    "        if errors[-1] > errors[-2]:\n",
    "            eta = -eta/10\n",
    "        \n",
    "    return w, errors[2:], w_step, time.time() - start"
   ]
  },
  {
   "cell_type": "code",
   "execution_count": 6,
   "id": "df99a19f",
   "metadata": {},
   "outputs": [
    {
     "name": "stdout",
     "output_type": "stream",
     "text": [
      "После L1 - регулизации видим, что 3 последних коэффициента - малы. Считаю, что их можно исключить из далнейшей обработки \n",
      "[ 1.68017285e+01  1.95369350e+01 -5.63147022e-04 -5.50414332e-04\n",
      "  3.89526437e-04]\n",
      "Было проделано 213 шагов\n"
     ]
    }
   ],
   "source": [
    "w_l1, errors_l1, w_step_l1, time_l1 = gradient_descent_reg_l1(X, Y, eta=eta)\n",
    "print(f'После L1 - регулизации видим, что 3 последних коэффициента - малы. Считаю, что их можно исключить из далнейшей обработки \\n{w_l1}')\n",
    "print(f'Было проделано {len(errors_l1)} шагов')"
   ]
  },
  {
   "cell_type": "code",
   "execution_count": 7,
   "id": "427df421",
   "metadata": {},
   "outputs": [
    {
     "data": {
      "text/plain": [
       "(1000, 2)"
      ]
     },
     "execution_count": 7,
     "metadata": {},
     "output_type": "execute_result"
    }
   ],
   "source": [
    "# Исключаем незначительные признаки перед L2 - регулизацией\n",
    "X_cutted = X[:, [0, 1]]\n",
    "X_cutted.shape"
   ]
  },
  {
   "cell_type": "code",
   "execution_count": 8,
   "id": "113adc19",
   "metadata": {},
   "outputs": [],
   "source": [
    "# подпрограмма L2 - регулизация\n",
    "def gradient_descent_reg_l2(X, Y, eta = 1000, reg = 1e-2, max_iter = 1e4, min_delta_weight = 1e-8):\n",
    "    start = time.time()\n",
    "    errors = [np.inf, np.inf]\n",
    "    w_step = []\n",
    "    current_iter = 0\n",
    "    w = np.zeros(X.shape[1])\n",
    "    for i in range(w.shape[0]):\n",
    "        w[i] = 1e-2\n",
    "    \n",
    "    delta_weight = np.inf\n",
    "    while delta_weight > min_delta_weight and current_iter < max_iter:\n",
    "        \n",
    "        current_iter += 1\n",
    "    \n",
    "        y_pred = np.dot(X, w)\n",
    "        dQ = 2/Y.shape[0] * np.dot(X.T, y_pred - Y)\n",
    "        dReg  = reg * 2 * w\n",
    "\n",
    "        w_new = w - eta * (dQ + dReg)\n",
    "        #print(f'w={w}\\ndQ={dQ}\\ndLasso={dLasso}')\n",
    "        delta_weight = np.linalg.norm(w-w_new, ord=2)\n",
    "        w_step.append(delta_weight)\n",
    "        \n",
    "        errors.append(mean_squared_error(Y, np.dot(X, w_new)))\n",
    "        w = w_new\n",
    "        \n",
    "        # Изменение направление, т.к. боюсь \"перепрыгнуть\" локальный мимнимум\n",
    "        # понимаю, что в данном случае решением будет локальный минимум\n",
    "        \n",
    "        if errors[-1] > errors[-2]:\n",
    "            eta = -eta/10\n",
    "        \n",
    "    return w, errors[2:], w_step, time.time() - start"
   ]
  },
  {
   "cell_type": "code",
   "execution_count": 9,
   "id": "36d71526",
   "metadata": {},
   "outputs": [
    {
     "name": "stdout",
     "output_type": "stream",
     "text": [
      "Были получены следующие веса: [16.81108532 19.53071163]. Они близки к истинным весам и к весам из L1\n",
      "Было проделано 213 шагов\n"
     ]
    }
   ],
   "source": [
    "w_l2, errors_l2, w_step_l2, time_l2 = gradient_descent_reg_l2(X_cutted, Y, eta=eta)\n",
    "print(f'Были получены следующие веса: {w_l2}. Они близки к истинным весам и к весам из L1')\n",
    "print(f'Было проделано {len(errors_l1)} шагов')"
   ]
  },
  {
   "cell_type": "code",
   "execution_count": 10,
   "id": "21af6a53",
   "metadata": {},
   "outputs": [],
   "source": [
    "# Подпрограмма градиентного спуска\n",
    "def gradient_descent(X, Y, eta = 1000, max_iters = 1e4, min_weight_distance = 1e-8):\n",
    "    start = time.time()\n",
    "    w = np.zeros(X.shape[1])\n",
    "    errors = [np.inf, np.inf]\n",
    "    w_step = []\n",
    "    current_iter = 0\n",
    "    weight_distance = np.inf\n",
    "    \n",
    "    while weight_distance > min_weight_distance and max_iters > current_iter:\n",
    "        current_iter += 1\n",
    "        y_pred = np.dot(X, w)\n",
    "        dQ = 2/Y.shape[0] * np.dot(X.T, y_pred-Y)\n",
    "\n",
    "        w_new = w - eta * dQ\n",
    "\n",
    "        weight_distance = np.linalg.norm(w-w_new, ord=2)\n",
    "        w_step.append(weight_distance)\n",
    "        errors.append(mean_squared_error(Y, np.dot(X, w_new)))\n",
    "\n",
    "        # Изменение направление, т.к. боюсь \"перепрыгнуть\" локальный мимнимум\n",
    "        # понимаю, что в данном случае решением будет локальный минимум\n",
    "        if errors[-2] < errors[-1]:\n",
    "            eta = -eta/10\n",
    "        \n",
    "        w = w_new\n",
    "        \n",
    "    return w, errors[2:], w_step, time.time() - start"
   ]
  },
  {
   "cell_type": "code",
   "execution_count": 11,
   "id": "ff9fbc02",
   "metadata": {},
   "outputs": [
    {
     "name": "stdout",
     "output_type": "stream",
     "text": [
      "В результате градиентного спуска были получены веса, приблизительно равные весам после L2 - регулизации: \n",
      "[ 1.68021094e+01  1.95392195e+01 -2.06718849e-08  7.61744833e-09\n",
      " -5.99201756e-09]\n",
      "Было затрачено 218 шагов\n"
     ]
    }
   ],
   "source": [
    "w_gd, errors_gd, w_step_gd, time_gd = gradient_descent(X, Y, eta=eta)\n",
    "print(f'В результате градиентного спуска были получены веса, приблизительно равные весам после L2 - регулизации: \\n{w_gd}')\n",
    "print(f'Было затрачено {len(errors_gd)} шагов')"
   ]
  },
  {
   "cell_type": "code",
   "execution_count": 15,
   "id": "32d9b1f5",
   "metadata": {},
   "outputs": [],
   "source": [
    "# Подпрограмма стохастического градиентного спуска\n",
    "def SGD(X, Y, eta = 1000, max_iters = 1e4, min_weight_distance = 1e-8):\n",
    "    start = time.time()\n",
    "    \n",
    "    w = np.zeros(X.shape[1])\n",
    "    current_iter = -1\n",
    "    weight_distance = np.inf\n",
    "    errors = []\n",
    "    \n",
    "    w_step = []\n",
    "    \n",
    "    while weight_distance > min_weight_distance and max_iters > current_iter:\n",
    "        \n",
    "        current_iter += 1\n",
    "        sample_number = random.randint(0, X.shape[0] - 1)\n",
    "        y_pred = X[sample_number].dot(w)\n",
    "        dQ = 2/Y.shape[0] * np.dot(X[sample_number].T, y_pred - Y[sample_number])\n",
    "        #print(f'dQ = {dQ}')\n",
    "        \n",
    "        w_new = w - eta*dQ\n",
    "        \n",
    "        errors.append(mean_squared_error(Y, X.dot(w_new)))\n",
    "        weight_distance = np.linalg.norm(w-w_new, ord=2)\n",
    "        w_step.append(weight_distance)\n",
    "        w = w_new\n",
    "        \n",
    "    return w, errors, w_step, time.time() - start"
   ]
  },
  {
   "cell_type": "code",
   "execution_count": 17,
   "id": "b797d3a2",
   "metadata": {},
   "outputs": [
    {
     "name": "stdout",
     "output_type": "stream",
     "text": [
      "В результате стохастического градиентного спуска были получены следующие веса:\n",
      "[14.41832584 16.74099019  0.15119247 -0.37153353  0.15614072]\n",
      "Было затрачено 10001 шагов\n"
     ]
    }
   ],
   "source": [
    "w_sgd, errors_sgd, w_step_sgd, time_sgd = SGD(X, Y, eta=0.1)\n",
    "print(f'В результате стохастического градиентного спуска были получены следующие веса:\\n{w_sgd}')\n",
    "print(f'Было затрачено {len(errors_sgd)} шагов')"
   ]
  },
  {
   "cell_type": "code",
   "execution_count": 18,
   "id": "5973543a",
   "metadata": {},
   "outputs": [
    {
     "name": "stdout",
     "output_type": "stream",
     "text": [
      "Время выполнения алгоритмов, сек\n",
      "Градиентный спуск = 0.04684281349182129\n",
      "Стохастический градиентный спуск = 1.3051352500915527\n",
      "L1 = 0.04484844207763672\n",
      "L2 = 0.037872314453125\n"
     ]
    }
   ],
   "source": [
    "# Сравним время выполнение кодов:\n",
    "print('Время выполнения алгоритмов, сек')\n",
    "print(f'Градиентный спуск = {time_gd}\\nСтохастический градиентный спуск = {time_sgd}\\nL1 = {time_l1}\\nL2 = {time_l2}')"
   ]
  },
  {
   "cell_type": "code",
   "execution_count": 19,
   "id": "09ee8ab2",
   "metadata": {},
   "outputs": [
    {
     "name": "stdout",
     "output_type": "stream",
     "text": [
      "MSE алгоритмов:\n",
      "Градиентный спуск = 0.09302117492672338\n",
      "Стохастический градиентный спуск = 13.407894448720482\n",
      "L1 = 0.09302719737595438\n",
      "L2 = 0.09317711941664805\n"
     ]
    }
   ],
   "source": [
    "# Сравним mse кодов:\n",
    "print('MSE алгоритмов:')\n",
    "print(f'Градиентный спуск = {errors_gd[-1]}\\nСтохастический градиентный спуск = {errors_sgd[-1]}\\nL1 = {errors_l1[-1]}\\nL2 = {errors_l2[-1]}')"
   ]
  },
  {
   "cell_type": "code",
   "execution_count": 20,
   "id": "0ba5c8c7",
   "metadata": {},
   "outputs": [
    {
     "name": "stdout",
     "output_type": "stream",
     "text": [
      "Отклонения полученных весов от реальных:\n",
      "Градиентный спуск: [ 2.15485090e-02 -5.45745087e-01  2.06718849e-08 -7.61744833e-09\n",
      "  5.99201756e-09]\n",
      "Стохастический градиентный спуск: [ 2.40533207  2.25248418 -0.15119247  0.37153353 -0.15614072]\n",
      "L1 - регулизация: [ 2.19294140e-02 -5.43460659e-01  5.63147022e-04  5.50414332e-04\n",
      " -3.89526437e-04]\n",
      "L2 - регулизация: [ 0.01257259 -0.53723726]\n"
     ]
    }
   ],
   "source": [
    "# Сравним отклонения весов для кодов:\n",
    "print('Отклонения полученных весов от реальных:')\n",
    "print(f'Градиентный спуск: {coef - w_gd}')\n",
    "print(f'Стохастический градиентный спуск: {coef - w_sgd}')\n",
    "print(f'L1 - регулизация: {coef - w_l1}')\n",
    "print(f'L2 - регулизация: {coef[:2] - w_l2}')"
   ]
  },
  {
   "cell_type": "code",
   "execution_count": 21,
   "id": "be890ab7",
   "metadata": {},
   "outputs": [
    {
     "data": {
      "image/png": "[encoded data removed]",
      "text/plain": [
       "<Figure size 640x480 with 1 Axes>"
      ]
     },
     "metadata": {},
     "output_type": "display_data"
    }
   ],
   "source": [
    "plt.plot(errors_l1, label='L1')\n",
    "plt.plot(errors_l2, label='L2')\n",
    "#plt.plot(errors_sgd, label='SGD')\n",
    "plt.plot(errors_gd, label='GD')\n",
    "plt.title('Зависимость получаемой ошибки от итерации')\n",
    "plt.legend()\n",
    "plt.show()"
   ]
  },
  {
   "cell_type": "code",
   "execution_count": 22,
   "id": "2db7a512",
   "metadata": {},
   "outputs": [
    {
     "data": {
      "image/png": "[encoded data removed]",
      "text/plain": [
       "<Figure size 640x480 with 1 Axes>"
      ]
     },
     "metadata": {},
     "output_type": "display_data"
    }
   ],
   "source": [
    "plt.plot(errors_l1, label='L1')\n",
    "plt.plot(errors_l2, label='L2')\n",
    "plt.plot(errors_sgd, label='SGD')\n",
    "plt.plot(errors_gd, label='GD')\n",
    "plt.title('Зависимость получаемой ошибки от итерации')\n",
    "plt.legend()\n",
    "plt.show()"
   ]
  },
  {
   "cell_type": "markdown",
   "id": "d5039b83",
   "metadata": {},
   "source": [
    "### Вывод по разделу работы:\n",
    "В результате работы было установлено, что хоть Стохастический градиентный спуск и потребляем меньше памяти и выполняется быстрее, в итоге для достижения результата необходимо гораздо больше шагов. В итоге mse и отклонения весов получаются с большой погрешностью."
   ]
  },
  {
   "cell_type": "markdown",
   "id": "f8cecf0d",
   "metadata": {},
   "source": [
    "### 3. Можно ли к одному и тому же признаку применить сразу и нормализацию, и стандартизацию?\n",
    "\n",
    "Ответ: применить можно, но физического смысла в этом нет. Стандартизация необходима для масштабирования признаков при регрессиях, нормализация применяется при классификации"
   ]
  },
  {
   "cell_type": "markdown",
   "id": "ea4466bc",
   "metadata": {},
   "source": [
    "### 4. Постройте график зависимости весов всех признаков от lambda в L2-регуляризации на основе данных из урока."
   ]
  },
  {
   "cell_type": "code",
   "execution_count": 29,
   "id": "a97d65a8",
   "metadata": {},
   "outputs": [],
   "source": [
    "lambda_ridge = []\n",
    "list_w1 = []\n",
    "list_w2 = []\n",
    "\n",
    "list_lambda = np.linspace(1e-2, 1e2, 100)\n",
    "\n",
    "for el in list_lambda:\n",
    "    lambda_ridge.append(el)\n",
    "    w, errors, w_step, time_t = gradient_descent_reg_l2(X_cutted, Y, eta=eta, reg = el)\n",
    "    list_w1.append(w[0])\n",
    "    list_w2.append(w[1])"
   ]
  },
  {
   "cell_type": "code",
   "execution_count": 34,
   "id": "359367cd",
   "metadata": {},
   "outputs": [
    {
     "data": {
      "image/png": "[encoded data removed]",
      "text/plain": [
       "<Figure size 640x480 with 1 Axes>"
      ]
     },
     "metadata": {},
     "output_type": "display_data"
    }
   ],
   "source": [
    "plt.plot(lambda_ridge, list_w1, label = 'w1')\n",
    "plt.plot(lambda_ridge, list_w2, label = 'w2')\n",
    "plt.legend\n",
    "plt.title('Зависимость получаемых коэффициентов w от коэффициента регулизации L2')\n",
    "plt.show()"
   ]
  },
  {
   "cell_type": "markdown",
   "id": "d3359354",
   "metadata": {},
   "source": [
    "### Вывод: чем больше коэффициент регулизации L2, тем ближе коэффициенты регрессии к истинному значению"
   ]
  }
 ],
 "metadata": {
  "kernelspec": {
   "display_name": "Python 3 (ipykernel)",
   "language": "python",
   "name": "python3"
  },
  "language_info": {
   "codemirror_mode": {
    "name": "ipython",
    "version": 3
   },
   "file_extension": ".py",
   "mimetype": "text/x-python",
   "name": "python",
   "nbconvert_exporter": "python",
   "pygments_lexer": "ipython3",
   "version": "3.9.12"
  }
 },
 "nbformat": 4,
 "nbformat_minor": 5
}
