{
 "cells": [
  {
   "cell_type": "code",
   "execution_count": 1,
   "id": "be2bf1a4",
   "metadata": {},
   "outputs": [],
   "source": [
    "from sklearn.datasets import make_regression\n",
    "from sklearn.model_selection import train_test_split\n",
    "from sklearn.metrics import r2_score\n",
    "import numpy as np"
   ]
  },
  {
   "cell_type": "markdown",
   "id": "357aefae",
   "metadata": {},
   "source": [
    "### Создание датасета:"
   ]
  },
  {
   "cell_type": "code",
   "execution_count": 2,
   "id": "6000960a",
   "metadata": {},
   "outputs": [],
   "source": [
    "X, Y, coef = make_regression(n_samples=1000, n_features=5, n_informative=3, noise=0.5, coef=True, random_state=13)\n",
    "# Добавив Null - значения в X:\n",
    "X[300, 2] = None\n",
    "X[2, 2] = None\n",
    "X[100, 2] = None\n",
    "X[700, 1] = None\n",
    "X[500, 1] = None\n",
    "# Разбиение на тренировочную и тестовую выборки\n",
    "x_train, x_test, y_train, y_test = train_test_split(X, Y, test_size=0.3, shuffle=True, random_state=13)"
   ]
  },
  {
   "cell_type": "code",
   "execution_count": 3,
   "id": "8e17cb64",
   "metadata": {},
   "outputs": [
    {
     "name": "stdout",
     "output_type": "stream",
     "text": [
      "Истинные значения весов равны [ 0.         56.65112607  0.         99.64572037 91.40591636]\n"
     ]
    }
   ],
   "source": [
    "print(f'Истинные значения весов равны {coef}')"
   ]
  },
  {
   "cell_type": "markdown",
   "id": "3e6d010d",
   "metadata": {},
   "source": [
    "### Макрос расчета критерия информативности для регрессионного дерева решений на основе дисперсии:\n",
    "\n",
    "$$H(X) = \\frac{1}{X}\\sum_{i\\in X}(y_{i} - \\bar{y}(X))^{2},$$\n",
    "\n",
    "где $\\bar{y}(X)$ — среднее значение ответа в выборке $X$:\n",
    "\n",
    "$$\\bar{y}(X) = \\frac{1}{|X|}\\sum_{i\\in X}y_{i}.$$"
   ]
  },
  {
   "cell_type": "code",
   "execution_count": 4,
   "id": "26e07d7c",
   "metadata": {},
   "outputs": [],
   "source": [
    "# Расчет критерия информативности\n",
    "def info_criteria(Y):\n",
    "    mean_y = np.mean(Y)\n",
    "    result = 0\n",
    "    for i in range(Y.shape[0]):\n",
    "        result += (Y[i] - mean_y)**2\n",
    "    return result / Y.shape[0]"
   ]
  },
  {
   "cell_type": "code",
   "execution_count": 5,
   "id": "3342f8cf",
   "metadata": {},
   "outputs": [],
   "source": [
    "# Расчет коэффициента качества \n",
    "def quality_koef(y_left_branch, y_right_branch, current_info_criteria):\n",
    "    \n",
    "    # Доля выборки, ушедшей в левую ветку\n",
    "    p = y_left_branch.shape[0] / (y_left_branch.shape[0] + y_right_branch.shape[0])\n",
    "    \n",
    "    # Коэффициент качества\n",
    "    return current_info_criteria - p * info_criteria(y_left_branch) - (1-p) * info_criteria(y_right_branch)"
   ]
  },
  {
   "cell_type": "markdown",
   "id": "63ed9229",
   "metadata": {},
   "source": [
    "### Класс узла дерева:"
   ]
  },
  {
   "cell_type": "code",
   "execution_count": 6,
   "id": "0d0d28c1",
   "metadata": {},
   "outputs": [],
   "source": [
    "# Класс узла дерева\n",
    "class Node:\n",
    "    \n",
    "    def __init__(self, index, t, left_branch, right_branch):\n",
    "        self.index = index        # index - индекс столбца массива признаков X, по которому производится сравнение\n",
    "        self.t = t        # t - значение граничного параметра для столбца с данным индексом, по которому разделяется выборка на левую и правую части\n",
    "        self.left_branch = left_branch        # left_branch - левая ветка дерева\n",
    "        self.right_branch = right_branch        # right_branch - правая ветка дерева"
   ]
  },
  {
   "cell_type": "markdown",
   "id": "d3130b25",
   "metadata": {},
   "source": [
    "### Класс листа дерева:"
   ]
  },
  {
   "cell_type": "code",
   "execution_count": 7,
   "id": "f9a6a9e2",
   "metadata": {},
   "outputs": [],
   "source": [
    "class Leaf:\n",
    "                                    # Конструктор класса. На вход принимает массив X (признаки) и массив Y (целевые классы)\n",
    "    def __init__(self, x, y):\n",
    "        self.x = x\n",
    "        self.y = y\n",
    "        self.predicted_class = self.predict()\n",
    "        \n",
    "                                    # Функция - предсказывание. Предсказывает целевое значение для данного листа\n",
    "                                    # как среднее для значений Y, пришедших в этот лист в момент обучения\n",
    "    def predict(self):\n",
    "        return np.mean(self.y)"
   ]
  },
  {
   "cell_type": "markdown",
   "id": "6d2d6ae0",
   "metadata": {},
   "source": [
    "### Макрос разбиения датасета в узле на левую и правую ветки:"
   ]
  },
  {
   "cell_type": "code",
   "execution_count": 8,
   "id": "4cdecbcb",
   "metadata": {},
   "outputs": [],
   "source": [
    "# Функция разделяет выборку на две ветки: левую и правую.\n",
    "# Критерий - сравнение наблюдения в массиве x по индексу index с номинальным t\n",
    "# Функция обрабатывает Null - значения из массива x\n",
    "def split_branch(x, y, index, t):\n",
    "    \n",
    "    x_left_branch = []\n",
    "    y_left_branch = []\n",
    "    x_right_branch = []\n",
    "    y_right_branch = []\n",
    "\n",
    "    for i in range(x.shape[0]):\n",
    "\n",
    "        # Обработка Null - значений:\n",
    "        if x[i, index] == None:\n",
    "            x_left_branch.append(x[i, :])\n",
    "            y_left_branch.append(y[i])\n",
    "            x_right_branch.append(x[i, :])\n",
    "            y_right_branch.append(y[i])\n",
    "            \n",
    "        elif x[i, index] <= t:\n",
    "            x_left_branch.append(x[i, :])\n",
    "            y_left_branch.append(y[i])\n",
    "            \n",
    "        else:\n",
    "            x_right_branch.append(x[i, :])\n",
    "            y_right_branch.append(y[i])\n",
    "    \n",
    "    return np.array(x_left_branch), np.array(y_left_branch), np.array(x_right_branch), np.array(y_right_branch)"
   ]
  },
  {
   "cell_type": "markdown",
   "id": "ebc09afc",
   "metadata": {},
   "source": [
    "### Макрос поиска наилучшего критерия для разбиения на левую и правую ветки:"
   ]
  },
  {
   "cell_type": "code",
   "execution_count": 9,
   "id": "d7fe700f",
   "metadata": {},
   "outputs": [],
   "source": [
    "def find_best_split(x, y, min_count_of_samples_per_branch = 5):\n",
    "\n",
    "# Критерий выбора наилучшего значения: максимальное значение параметра качества - best_quality (прирост информации)\n",
    "    best_t = None    # Значение параметра t, при котором достигается наилучшее качество (прирост информации)\n",
    "    best_index = None    # Значение индекса столбца  массива x, при котором достигается наилучшее качество (прирост информации)  \n",
    "    best_quality = 0    # Переменная, хранящая значения качества (прирост информации)\n",
    "    current_info_criteria = info_criteria(y)    # Переменная, хранящая текущий критерий информативности для данной выборки\n",
    "    \n",
    "    # Перебор всех значений x по всем строкам и столбцам для поиска индекса и параметра t с наибольшим приростом информации\n",
    "    for index in range(x.shape[1]):\n",
    "        for row in range(x.shape[0]):\n",
    "            t = x[row,index]\n",
    "            x_left_branch, y_left_branch, x_right_branch, y_right_branch = split_branch(x, y, index, t)\n",
    "            \n",
    "            # Проверка, достаточно ли образцов и листе - борьба с переобучением\n",
    "            if y_left_branch.shape[0] < min_count_of_samples_per_branch or y_right_branch.shape[0] < min_count_of_samples_per_branch:\n",
    "                continue\n",
    "            \n",
    "            # Расчет прироста информации на данной итерации\n",
    "            current_quality = quality_koef(y_left_branch, y_right_branch, current_info_criteria)\n",
    "            \n",
    "            if current_quality > best_quality:\n",
    "                best_quality = current_quality\n",
    "                best_index = index\n",
    "                best_t = x[row,index]\n",
    "                \n",
    "    return best_index, best_t, best_quality       "
   ]
  },
  {
   "cell_type": "markdown",
   "id": "528661b6",
   "metadata": {},
   "source": [
    "### Cоздание регрессионного дерева решений"
   ]
  },
  {
   "cell_type": "code",
   "execution_count": 10,
   "id": "30be54be",
   "metadata": {},
   "outputs": [],
   "source": [
    "def build_tree(x, y, min_count_of_samples_per_branch = 5):\n",
    "    best_index, best_t, best_quality = find_best_split(x, y, min_count_of_samples_per_branch=min_count_of_samples_per_branch)\n",
    "    \n",
    "    #  Базовый случай — прекращаем рекурсию, когда нет прироста в качества или когда образцов в листе меньше заданного\n",
    "    if best_quality == 0 or y.shape[0] < min_count_of_samples_per_branch:\n",
    "        return Leaf(x, y)\n",
    "    \n",
    "    x_left_branch, y_left_branch, x_right_branch, y_right_branch = split_branch(x, y, best_index, best_t)\n",
    "    \n",
    "    # Рекурсивное добавление левой и правой веток\n",
    "    left_branch = build_tree(x_left_branch, y_left_branch, min_count_of_samples_per_branch=min_count_of_samples_per_branch)\n",
    "    right_branch = build_tree(x_right_branch, y_right_branch, min_count_of_samples_per_branch=min_count_of_samples_per_branch)\n",
    "    \n",
    "    return Node(best_index, best_t, left_branch, right_branch)    "
   ]
  },
  {
   "cell_type": "markdown",
   "id": "e7ae16c5",
   "metadata": {},
   "source": [
    "### Функция предсказывания деревом:"
   ]
  },
  {
   "cell_type": "code",
   "execution_count": 11,
   "id": "e6ed1ad3",
   "metadata": {},
   "outputs": [],
   "source": [
    "def classify_object(x, tree_subclass):\n",
    "    # Функция предсказывания для одного наблюдения из массива X\n",
    "    #  Останавливаем рекурсию, если достигли класса листа - именно листья возвращают нам наше целевое значение\n",
    "    if isinstance(tree_subclass, Leaf):\n",
    "        answer = tree_subclass.predict()\n",
    "        return answer\n",
    "    \n",
    "    #  Сравнение значений в массиве x с целевыми параметрами t\n",
    "    if x[tree_subclass.index] <= tree_subclass.t:\n",
    "        return classify_object(x, tree_subclass.left_branch)\n",
    "    else:\n",
    "        return classify_object(x, tree_subclass.right_branch)"
   ]
  },
  {
   "cell_type": "code",
   "execution_count": 12,
   "id": "7e112bfa",
   "metadata": {},
   "outputs": [],
   "source": [
    "def tree_predict(x, tree):\n",
    "    # Функция предсказывания значений для всех наблюдений в массиве X\n",
    "    classes = []\n",
    "    for sample in x:\n",
    "        prediction = classify_object(sample, tree)\n",
    "        classes.append(prediction)\n",
    "    return classes"
   ]
  },
  {
   "cell_type": "markdown",
   "id": "49481a2c",
   "metadata": {},
   "source": [
    "### Метод оценки точности работы классификатора - расчета accuracy:"
   ]
  },
  {
   "cell_type": "markdown",
   "id": "93e73c21",
   "metadata": {},
   "source": [
    "### Запуск и работа скрипта представлены ниже:"
   ]
  },
  {
   "cell_type": "code",
   "execution_count": 13,
   "id": "d12e5573",
   "metadata": {},
   "outputs": [],
   "source": [
    "# Создание и обучение дерева решений\n",
    "tree = build_tree(x_train, y_train, min_count_of_samples_per_branch=5)"
   ]
  },
  {
   "cell_type": "code",
   "execution_count": 14,
   "id": "b506bd39",
   "metadata": {},
   "outputs": [
    {
     "name": "stdout",
     "output_type": "stream",
     "text": [
      "Точность предсказания на обучающей выборке составляет 0.963\n"
     ]
    }
   ],
   "source": [
    "# Предсказание на тренировочной выборке\n",
    "y_pred_train = np.array(tree_predict(x_train, tree))\n",
    "print(f'Точность предсказания на обучающей выборке составляет {round(r2_score(y_train, y_pred_train), 3)}')"
   ]
  },
  {
   "cell_type": "code",
   "execution_count": 15,
   "id": "41860c12",
   "metadata": {},
   "outputs": [
    {
     "name": "stdout",
     "output_type": "stream",
     "text": [
      "Точность предсказания на обучающей выборке составляет 0.873\n"
     ]
    }
   ],
   "source": [
    "# Предсказание на тестовой выборке\n",
    "y_test_pred = np.array(tree_predict(x_test, tree))\n",
    "print(f'Точность предсказания на обучающей выборке составляет {round(r2_score(y_test, y_test_pred), 3)}')"
   ]
  }
 ],
 "metadata": {
  "kernelspec": {
   "display_name": "Python 3 (ipykernel)",
   "language": "python",
   "name": "python3"
  },
  "language_info": {
   "codemirror_mode": {
    "name": "ipython",
    "version": 3
   },
   "file_extension": ".py",
   "mimetype": "text/x-python",
   "name": "python",
   "nbconvert_exporter": "python",
   "pygments_lexer": "ipython3",
   "version": "3.9.12"
  }
 },
 "nbformat": 4,
 "nbformat_minor": 5
}
