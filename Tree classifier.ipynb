{
 "cells": [
  {
   "cell_type": "code",
   "execution_count": 1,
   "id": "be2bf1a4",
   "metadata": {},
   "outputs": [],
   "source": [
    "from sklearn.datasets import make_classification\n",
    "from sklearn.model_selection import train_test_split\n",
    "import numpy as np"
   ]
  },
  {
   "cell_type": "markdown",
   "id": "357aefae",
   "metadata": {},
   "source": [
    "### Создание датасета:"
   ]
  },
  {
   "cell_type": "code",
   "execution_count": 2,
   "id": "6000960a",
   "metadata": {},
   "outputs": [],
   "source": [
    "X, Y = make_classification(n_samples=1000, n_features=5, n_informative=4, n_redundant=1, n_classes=2, random_state=13)\n",
    "\n",
    "# Добавление в датасет пустых значений - написанный скрипт работает с пустыми значениями\n",
    "X[300, 2] = None\n",
    "X[2, 2] = None\n",
    "X[100, 2] = None\n",
    "X[700, 1] = None\n",
    "X[500, 1] = None\n",
    "\n",
    "# Разбиение на тренировочную и тестовую выборки\n",
    "x_train, x_test, y_train, y_test = train_test_split(X, Y, test_size=0.3, shuffle=True, random_state=13)"
   ]
  },
  {
   "cell_type": "markdown",
   "id": "3e6d010d",
   "metadata": {},
   "source": [
    "### Макрос расчета энтропийного критерия Шеннона (критерий информативности классификатора дерева решений):\n",
    "$$H(X) = - \\sum^{K}_{k=1}p_{k}\\text{log}_{2}p_{k}.$$\n",
    "\n",
    "$$p_{k} = \\frac{1}{|X|}\\sum_{i\\in X}[y_{i} = k].$$\n",
    "\n",
    "Обозначим через $p_{k}$ долю объектов класса $k$ в выборке $X$. $p_{k}$ будет характеризовать вероятность выдачи класса $k$."
   ]
  },
  {
   "cell_type": "code",
   "execution_count": 3,
   "id": "86a68405",
   "metadata": {},
   "outputs": [],
   "source": [
    "# Расчет доли объектов, равных k в выборке Y (пример: какова доля \"1\" по отношению ко всей выборке)\n",
    "# т.е. расчет доли объектов в выборке для каждого класса\n",
    "def count_object_for_k_class(Y, k):\n",
    "    p = 1/Y.shape[0] * Y[Y==k].shape[0]\n",
    "    return p"
   ]
  },
  {
   "cell_type": "code",
   "execution_count": 4,
   "id": "26e07d7c",
   "metadata": {},
   "outputs": [],
   "source": [
    "# Расчет критерия Шеннона (энтропии)\n",
    "def full_entropia(Y):\n",
    "    H = 0\n",
    "    for k in np.unique(Y):\n",
    "        p = count_object_for_k_class(Y, k)\n",
    "        H += p * np.log2(p)\n",
    "    \n",
    "    return -H"
   ]
  },
  {
   "cell_type": "code",
   "execution_count": 5,
   "id": "3342f8cf",
   "metadata": {},
   "outputs": [],
   "source": [
    "# Расчет коэффициента качества \n",
    "def quality_koef(y_left_branch, y_right_branch, current_shennon_criteria):\n",
    "    \n",
    "    # Доля выборки, ушедшей в левую ветку\n",
    "    p = y_left_branch.shape[0] / (y_left_branch.shape[0] + y_right_branch.shape[0])\n",
    "    \n",
    "    # Коэффициент качества\n",
    "    return current_shennon_criteria - p * full_entropia(y_left_branch) - (1-p) * full_entropia(y_right_branch)"
   ]
  },
  {
   "cell_type": "markdown",
   "id": "63ed9229",
   "metadata": {},
   "source": [
    "### Класс узла дерева:"
   ]
  },
  {
   "cell_type": "code",
   "execution_count": 6,
   "id": "0d0d28c1",
   "metadata": {},
   "outputs": [],
   "source": [
    "# Класс узла дерева\n",
    "class Node:\n",
    "    \n",
    "    def __init__(self, index, t, left_branch, right_branch):\n",
    "        self.index = index        # index - индекс столбца массива признаков X, по которому производится сравнение\n",
    "        self.t = t        # t - значение граничного параметра для столбца с данным индексом, по которому разделяется выборка на левую и правую части\n",
    "        self.left_branch = left_branch        # left_branch - левая ветка дерева\n",
    "        self.right_branch = right_branch        # right_branch - правая ветка дерева"
   ]
  },
  {
   "cell_type": "markdown",
   "id": "d3130b25",
   "metadata": {},
   "source": [
    "### Класс листа дерева:"
   ]
  },
  {
   "cell_type": "code",
   "execution_count": 7,
   "id": "f9a6a9e2",
   "metadata": {},
   "outputs": [],
   "source": [
    "class Leaf:\n",
    "                                    # Конструктор класса. На вход принимает массив X (признаки) и массив Y (целевые классы)\n",
    "    def __init__(self, x, y):\n",
    "        self.x = x\n",
    "        self.y = y\n",
    "        self.predicted_class = self.predict()\n",
    "        \n",
    "                                    # Функция - предсказывание. Предсказывает целевой класс для данного листа\n",
    "                                    # Класс, объектов которого будет большинство в данном листе, будет возвращен\n",
    "    def predict(self):\n",
    "        count_unique_values = []\n",
    "        unique_values = np.unique(self.y)\n",
    "        for k in unique_values:\n",
    "            count_unique_values.append(self.y[self.y==k].shape[0])\n",
    "        \n",
    "        maximum_count = 0\n",
    "        target_class = 0\n",
    "        for i, value in enumerate(count_unique_values):\n",
    "            if maximum_count < value:\n",
    "                target_class = unique_values[i]\n",
    "                \n",
    "        return target_class"
   ]
  },
  {
   "cell_type": "markdown",
   "id": "6d2d6ae0",
   "metadata": {},
   "source": [
    "### Макрос разбиения датасета в узле на левую и правую ветки:"
   ]
  },
  {
   "cell_type": "code",
   "execution_count": 8,
   "id": "4cdecbcb",
   "metadata": {},
   "outputs": [],
   "source": [
    "# Функция разделяет выборку на две ветки: левую и правую.\n",
    "# Критерий - сравнение наблюдения в массиве x по индексу index с номинальным t\n",
    "# Функция обрабатывает Null - значения из массива x\n",
    "def split_branch(x, y, index, t):\n",
    "    \n",
    "    x_left_branch = []\n",
    "    y_left_branch = []\n",
    "    x_right_branch = []\n",
    "    y_right_branch = []\n",
    "    \n",
    "    for i in range(x.shape[0]):\n",
    "        \n",
    "        # Обработка Null - значений:\n",
    "        if x[i, index] == None:\n",
    "            x_left_branch.append(x[i, :])\n",
    "            y_left_branch.append(y[i])\n",
    "            x_right_branch.append(x[i, :])\n",
    "            y_right_branch.append(y[i])\n",
    "            \n",
    "        elif x[i, index] <= t:\n",
    "            x_left_branch.append(x[i, :])\n",
    "            y_left_branch.append(y[i])\n",
    "            \n",
    "        else:\n",
    "            x_right_branch.append(x[i, :])\n",
    "            y_right_branch.append(y[i])\n",
    "    \n",
    "    return np.array(x_left_branch), np.array(y_left_branch), np.array(x_right_branch), np.array(y_right_branch)"
   ]
  },
  {
   "cell_type": "markdown",
   "id": "ebc09afc",
   "metadata": {},
   "source": [
    "### Макрос поиска наилучшего критерия для разбиения на левую и правую ветки:"
   ]
  },
  {
   "cell_type": "code",
   "execution_count": 9,
   "id": "d7fe700f",
   "metadata": {},
   "outputs": [],
   "source": [
    "def find_best_split(x, y, min_count_of_samples_per_branch = 5):\n",
    "\n",
    "# Критерий выбора наилучшего значения: максимальное значение параметра качества - best_quality (прирост информации)\n",
    "    best_t = None    # Значение параметра t, при котором достигается наилучшее качество (прирост информации)\n",
    "    best_index = None    # Значение индекса столбца  массива x, при котором достигается наилучшее качество (прирост информации)  \n",
    "    best_quality = 0    # Переменная, хранящая значения качества (прирост информации)\n",
    "    current_entropia = full_entropia(y)    # Переменная, хранящая текущую энтропию для данной выборки\n",
    "    \n",
    "    # Перебор всех значений x по всем строкам и столбцам для поиска индекса и параметра t с наибольшим приростом информации\n",
    "    for index in range(x.shape[1]):\n",
    "        for row in range(x.shape[0]):\n",
    "            t = x[row,index]\n",
    "            x_left_branch, y_left_branch, x_right_branch, y_right_branch = split_branch(x, y, index, t)\n",
    "            \n",
    "            # Проверка, достаточно ли образцов и листе - борьба с переобучением\n",
    "            if y_left_branch.shape[0] < min_count_of_samples_per_branch or y_right_branch.shape[0] < min_count_of_samples_per_branch:\n",
    "                continue\n",
    "            \n",
    "            # Расчет прироста информации на данной итерации\n",
    "            current_quality = quality_koef(y_left_branch, y_right_branch, current_entropia)\n",
    "            \n",
    "            if current_quality > best_quality:\n",
    "                best_quality = current_quality\n",
    "                best_index = index\n",
    "                best_t = x[row,index]\n",
    "                \n",
    "    return best_index, best_t, best_quality       "
   ]
  },
  {
   "cell_type": "markdown",
   "id": "528661b6",
   "metadata": {},
   "source": [
    "### Cоздание дерева решений классификатора"
   ]
  },
  {
   "cell_type": "code",
   "execution_count": 10,
   "id": "30be54be",
   "metadata": {},
   "outputs": [],
   "source": [
    "def build_tree(x, y, min_count_of_samples_per_branch = 5, max_depth=100):\n",
    "    best_index, best_t, best_quality = find_best_split(x, y, min_count_of_samples_per_branch=min_count_of_samples_per_branch)\n",
    "    \n",
    "    #  Базовый случай — прекращаем рекурсию, когда нет прироста в качества или когда образцов в листе меньше заданного\n",
    "    if best_quality == 0 or y.shape[0] < min_count_of_samples_per_branch:\n",
    "        return Leaf(x, y)\n",
    "    \n",
    "    x_left_branch, y_left_branch, x_right_branch, y_right_branch = split_branch(x, y, best_index, best_t)\n",
    "    \n",
    "    # Рекурсивное добавление левой и правой веток\n",
    "    left_branch = build_tree(x_left_branch, y_left_branch, min_count_of_samples_per_branch=min_count_of_samples_per_branch, max_depth=max_depth)\n",
    "    right_branch = build_tree(x_right_branch, y_right_branch, min_count_of_samples_per_branch=min_count_of_samples_per_branch, max_depth=max_depth)\n",
    "    \n",
    "    return Node(best_index, best_t, left_branch, right_branch)    "
   ]
  },
  {
   "cell_type": "markdown",
   "id": "e7ae16c5",
   "metadata": {},
   "source": [
    "### Функция предсказывания деревом:"
   ]
  },
  {
   "cell_type": "code",
   "execution_count": 11,
   "id": "e6ed1ad3",
   "metadata": {},
   "outputs": [],
   "source": [
    "def classify_object(x, tree_subclass):\n",
    "    # Функция предсказывания для одного наблюдения из массива X\n",
    "    #  Останавливаем рекурсию, если достигли класса листа - именно листья возвращают нам наш целевой класс\n",
    "    if isinstance(tree_subclass, Leaf):\n",
    "        answer = tree_subclass.predict()\n",
    "        return answer\n",
    "    \n",
    "    #  Сравнение значений в массиве x с целевыми параметрами t\n",
    "    if x[tree_subclass.index] <= tree_subclass.t:\n",
    "        return classify_object(x, tree_subclass.left_branch)\n",
    "    else:\n",
    "        return classify_object(x, tree_subclass.right_branch)"
   ]
  },
  {
   "cell_type": "code",
   "execution_count": 12,
   "id": "7e112bfa",
   "metadata": {},
   "outputs": [],
   "source": [
    "def tree_predict(x, tree):\n",
    "    # Функция предсказывания значений для всех наблюдений в массиве X\n",
    "    classes = []\n",
    "    for sample in x:\n",
    "        prediction = classify_object(sample, tree)\n",
    "        classes.append(prediction)\n",
    "    return classes"
   ]
  },
  {
   "cell_type": "markdown",
   "id": "49481a2c",
   "metadata": {},
   "source": [
    "### Метод оценки точности работы классификатора - расчета accuracy:"
   ]
  },
  {
   "cell_type": "code",
   "execution_count": 13,
   "id": "f6117cef",
   "metadata": {},
   "outputs": [],
   "source": [
    "def get_accuracy(y_true, y_pred):\n",
    "    k = 0\n",
    "    for i in range(y_true.shape[0]):\n",
    "        if y_true[i] == y_pred[i]:\n",
    "            k += 1\n",
    "    return k / y_true.shape[0]"
   ]
  },
  {
   "cell_type": "markdown",
   "id": "93e73c21",
   "metadata": {},
   "source": [
    "### Запуск и работа скрипта представлены ниже:"
   ]
  },
  {
   "cell_type": "code",
   "execution_count": 14,
   "id": "d12e5573",
   "metadata": {},
   "outputs": [],
   "source": [
    "# Создание и обучение дерева решений\n",
    "tree = build_tree(x_train, y_train, min_count_of_samples_per_branch=3)"
   ]
  },
  {
   "cell_type": "code",
   "execution_count": 15,
   "id": "b506bd39",
   "metadata": {},
   "outputs": [
    {
     "name": "stdout",
     "output_type": "stream",
     "text": [
      "Точность предсказания на обучающей выборке составляет 0.957\n"
     ]
    }
   ],
   "source": [
    "# Предсказание на тренировочной выборке\n",
    "y_pred_train = tree_predict(x_train, tree)\n",
    "print(f'Точность предсказания на обучающей выборке составляет {round(get_accuracy(y_train, y_pred_train), 3)}')"
   ]
  },
  {
   "cell_type": "code",
   "execution_count": 16,
   "id": "41860c12",
   "metadata": {},
   "outputs": [
    {
     "name": "stdout",
     "output_type": "stream",
     "text": [
      "Точность предсказания на обучающей выборке составляет 0.89\n"
     ]
    }
   ],
   "source": [
    "# Предсказание на тестовой выборке\n",
    "y_test_pred = tree_predict(x_test, tree)\n",
    "print(f'Точность предсказания на обучающей выборке составляет {round(get_accuracy(y_test, y_test_pred), 3)}')"
   ]
  }
 ],
 "metadata": {
  "kernelspec": {
   "display_name": "Python 3 (ipykernel)",
   "language": "python",
   "name": "python3"
  },
  "language_info": {
   "codemirror_mode": {
    "name": "ipython",
    "version": 3
   },
   "file_extension": ".py",
   "mimetype": "text/x-python",
   "name": "python",
   "nbconvert_exporter": "python",
   "pygments_lexer": "ipython3",
   "version": "3.9.12"
  }
 },
 "nbformat": 4,
 "nbformat_minor": 5
}
