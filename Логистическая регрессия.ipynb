{
 "cells": [
  {
   "cell_type": "markdown",
   "id": "747289a6",
   "metadata": {},
   "source": [
    "# Логистическая регрессия без регуляризации\n",
    "Метод: градиентный спуск\n",
    "\n",
    "Оптимизируемая величина: логарифмическая функция потерь"
   ]
  },
  {
   "cell_type": "code",
   "execution_count": 1,
   "id": "615f6465",
   "metadata": {},
   "outputs": [],
   "source": [
    "from sklearn.datasets import make_classification\n",
    "import numpy as np\n",
    "import pandas as pd\n",
    "from matplotlib import pyplot as plt\n",
    "import sys"
   ]
  },
  {
   "cell_type": "markdown",
   "id": "b9d092b7",
   "metadata": {},
   "source": [
    "### Создание набора данных:"
   ]
  },
  {
   "cell_type": "code",
   "execution_count": 2,
   "id": "b74f533b",
   "metadata": {},
   "outputs": [],
   "source": [
    "X, Y= make_classification(n_samples=500, n_features=2, n_classes=2, weights=[0.7, 0.3], random_state=7, n_informative=2, n_redundant=0)"
   ]
  },
  {
   "cell_type": "markdown",
   "id": "dd14079f",
   "metadata": {},
   "source": [
    "### Разделение выборки на обучающую и тестовую. Соотношение: 70 / 30"
   ]
  },
  {
   "cell_type": "code",
   "execution_count": 3,
   "id": "e3158074",
   "metadata": {},
   "outputs": [],
   "source": [
    "koef = 0.7 # Коэффициент разделение обучающей и тестовой выборок\n",
    "\n",
    "shuffle_index = np.random.permutation(X.shape[0])\n",
    "\n",
    "X_shuffled = X[shuffle_index]\n",
    "Y_shuffled = Y[shuffle_index]\n",
    "\n",
    "X_train = X_shuffled[:int(X.shape[0] * koef)]\n",
    "X_test = X_shuffled[int(X.shape[0] * koef):]\n",
    "\n",
    "Y_train = Y_shuffled[:int(X.shape[0] * koef)]\n",
    "Y_test = Y_shuffled[int(X.shape[0] * koef):]"
   ]
  },
  {
   "cell_type": "markdown",
   "id": "10f83767",
   "metadata": {},
   "source": [
    "### Визуализация тестовой выборки:"
   ]
  },
  {
   "cell_type": "code",
   "execution_count": 4,
   "id": "ff1fad5b",
   "metadata": {},
   "outputs": [],
   "source": [
    "# Макрос разделения данных на классы по значению Y = target_Y\n",
    "def devide_by_class(X, Y, target_Y):\n",
    "    X = pd.DataFrame(X)\n",
    "    Y = pd.DataFrame(Y)\n",
    "    return pd.DataFrame(X[Y[0] == target_Y])"
   ]
  },
  {
   "cell_type": "code",
   "execution_count": 5,
   "id": "43996f52",
   "metadata": {},
   "outputs": [
    {
     "data": {
      "image/png": "[encoded data removed]",
      "text/plain": [
       "<Figure size 640x480 with 1 Axes>"
      ]
     },
     "metadata": {},
     "output_type": "display_data"
    }
   ],
   "source": [
    "X_class_0 = devide_by_class(X_train, Y_train, 0)\n",
    "X_class_1 = devide_by_class(X_train, Y_train, 1)\n",
    "\n",
    "plt.scatter(X_class_0[0], X_class_0[1], color='b', label = 'class 0')\n",
    "plt.scatter(X_class_1[0], X_class_1[1], color='r', label = 'class 1')\n",
    "plt.legend()\n",
    "plt.show()"
   ]
  },
  {
   "cell_type": "markdown",
   "id": "851aae76",
   "metadata": {},
   "source": [
    "### Макрос, вычисляющий сигмоиду:\n",
    "$$\\sigma(z) = \\frac{1}{1 + exp(-z)}.$$"
   ]
  },
  {
   "cell_type": "code",
   "execution_count": 6,
   "id": "2d009a3d",
   "metadata": {},
   "outputs": [],
   "source": [
    "# Функция вычисления сигмоиды\n",
    "def sigmoid(x):\n",
    "    result = 1/(1 + np.exp(-x))\n",
    "    return result"
   ]
  },
  {
   "cell_type": "markdown",
   "id": "8db35cdc",
   "metadata": {},
   "source": [
    "### Макрос, вычисляющий логарифмическую функцию потерь:\n",
    "$$-\\text{ln}L(X) = -\\frac{1}{l}\\sum^{l}_{i=1} (y_{i} \\text{ln}(\\sigma) + (1 - y_{i})\\text{ln} (1-\\sigma)).$$"
   ]
  },
  {
   "cell_type": "code",
   "execution_count": 7,
   "id": "7c4bfa95",
   "metadata": {},
   "outputs": [],
   "source": [
    "# Логарифмисеская функция потерь:\n",
    "def log_loss(X, Y, W):\n",
    "    sigmas = sigmoid(np.dot(X, W))   \n",
    "    \n",
    "    log = 0\n",
    "    \n",
    "    for i in range(Y.shape[0]):\n",
    "                                        # Натуральный логарифм нуля равен бесконечности. Для обхода этого значения\n",
    "        if sigmas[i] == 1:              # заменим значение сигмы, равное 1 или 0, на очень близкие к ним\n",
    "            sigmas[i] = 1 - 1e-9\n",
    "        elif sigmas[i] == 0:\n",
    "            sigmas[i] = 1e-9\n",
    "        \n",
    "        log += Y[i] * np.log(sigmas[i])\n",
    "        log += (1-Y[i]) * np.log(1 - sigmas[i])\n",
    "        \n",
    "    log = -1 / Y.shape[0] * log\n",
    "    \n",
    "    return log"
   ]
  },
  {
   "cell_type": "markdown",
   "id": "eb2e76ef",
   "metadata": {},
   "source": [
    "### Макрос, вычисляющий градиент функции потерь:\n",
    "$$grad = \\frac{1}{l}(A-Y)^{T}X,$$\n",
    "\n",
    "$$A=\\frac{1}{1 + exp(-\\left \\langle x_{i},w \\right \\rangle)}.$$"
   ]
  },
  {
   "cell_type": "code",
   "execution_count": 8,
   "id": "760bb4a4",
   "metadata": {},
   "outputs": [],
   "source": [
    "# Градиент логарифмической функции потерь\n",
    "def grad_log_los(X, Y, W):\n",
    "    A = sigmoid(np.dot(X, W))\n",
    "    return 1 / Y.shape[0] * np.dot((A-Y).T, X)"
   ]
  },
  {
   "cell_type": "markdown",
   "id": "d522c939",
   "metadata": {},
   "source": [
    "### Функция вычисления уточненных значений весов (через вычет градиента):\n",
    "$$w_{n+1} = w_{n} - \\eta*grad$$\n",
    "### Функция оптимизации:"
   ]
  },
  {
   "cell_type": "code",
   "execution_count": 9,
   "id": "df4dac06",
   "metadata": {},
   "outputs": [],
   "source": [
    "# Функция оптимизации. Размер шага спуска по градиенту в процессе выполнения макроса изменяется автоматически (reduce_eta_step=True)\n",
    "# Если stop_after_5_repeated_errors=True, макрос завершит работу, если 5 последних ошибок одинаковы.\n",
    "\n",
    "def optimization(X_train, Y_train, eta=100, max_steps=1000, min_loglos_error = 0.00001, reduce_eta_step=True, stop_after_5_repeated_errors=True):\n",
    "    \n",
    "    # Массив - лог ошибок логарифмической функции потерь\n",
    "    log_loglos = [np.inf]\n",
    "    \n",
    "    # Текущая итерация\n",
    "    current_step = 0\n",
    "    \n",
    "    # Ошибка логарифмической функции потерь на текущей итерации\n",
    "    current_error = np.inf\n",
    "    \n",
    "    # Инициализация начальных значений весов\n",
    "    w = np.zeros([X.shape[1]])\n",
    "    \n",
    "    while current_step < max_steps and current_error > min_loglos_error:\n",
    "        current_step +=1\n",
    "        current_error = log_loss(X, Y, w)\n",
    "        \n",
    "        # Изменение шага спуска по градиенту, если логарифмическая функция потерь начинает увеличиваться\n",
    "        if reduce_eta_step:\n",
    "            if current_error >= log_loglos[-1]:\n",
    "                eta = eta / 10\n",
    "        \n",
    "        log_loglos.append(current_error)\n",
    "        grad = grad_log_los(X,Y,w)\n",
    "        w += - eta*grad\n",
    "        \n",
    "        # Остановка макроса, если 5 последних значений логарифмической функции потерь равны между собой\n",
    "        if stop_after_5_repeated_errors and current_step >=5:\n",
    "            if log_loglos[-1] == log_loglos[-2] == log_loglos[-3] == log_loglos[-4] == log_loglos[-5]:\n",
    "                print(f'Finish after 5 identical errors. Current step: {current_step}')\n",
    "                break\n",
    "    \n",
    "    # Возвращает последние веса, а также лог изменения логарифмической функции потерь\n",
    "    return w, log_loglos[1:]"
   ]
  },
  {
   "cell_type": "code",
   "execution_count": 10,
   "id": "0d10b718",
   "metadata": {},
   "outputs": [
    {
     "name": "stdout",
     "output_type": "stream",
     "text": [
      "Finish after 5 identical errors. Current step: 123\n",
      "Финальная ошибка составляет 0.332\n"
     ]
    },
    {
     "data": {
      "image/png": "[encoded data removed]",
      "text/plain": [
       "<Figure size 640x480 with 1 Axes>"
      ]
     },
     "metadata": {},
     "output_type": "display_data"
    }
   ],
   "source": [
    "# Изначальный \"изгиб\" на графике объясняется автоматическим уменьшением шага спуска по градиенту\n",
    "w, log_loglos = optimization(X, Y, max_steps=1000, eta=100)\n",
    "print(f'Финальная ошибка составляет {round(log_loglos[-1], 3)}')\n",
    "plt.plot(log_loglos)\n",
    "plt.title('График логарифмической функции потерь')\n",
    "plt.xlabel('Номер  итерации')\n",
    "plt.ylabel('Ошибка логарифмической\\nфункции потерь')\n",
    "plt.show()"
   ]
  },
  {
   "cell_type": "markdown",
   "id": "d282acee",
   "metadata": {},
   "source": [
    "### Функция классификации (предсказывания) на основе сигмоиды:"
   ]
  },
  {
   "cell_type": "code",
   "execution_count": 11,
   "id": "0a02deb5",
   "metadata": {},
   "outputs": [],
   "source": [
    "#  Макрос выполнения предсказаний. Возвращает предсказанный класс, а также вероятность того, что объект принадлежит 1му классу.\n",
    "def predict(X, w):\n",
    "    \n",
    "    # Вероятность быть 1м классом\n",
    "    sigmas = sigmoid(np.dot(X, w))\n",
    "    \n",
    "    # Массив значений класса для каждого объекта\n",
    "    values = np.zeros(X.shape[0])\n",
    "    \n",
    "    for i in range(len(sigmas)):\n",
    "        if sigmas[i] >= 0.5:\n",
    "            values[i] =1\n",
    "    \n",
    "    return values, sigmas"
   ]
  },
  {
   "cell_type": "code",
   "execution_count": 12,
   "id": "194a9d5a",
   "metadata": {},
   "outputs": [],
   "source": [
    "y_pred_train, chance_to_be_first_class_train = predict(X_train, w)\n",
    "y_pred_test, chance_to_be_first_class_test = predict(X_test, w)"
   ]
  },
  {
   "cell_type": "markdown",
   "id": "6bd64d49",
   "metadata": {},
   "source": [
    "### Функции вычисления метрик:"
   ]
  },
  {
   "cell_type": "code",
   "execution_count": 13,
   "id": "90b77b1f",
   "metadata": {},
   "outputs": [],
   "source": [
    "# Функция вычисления accuracy\n",
    "def accuracy(y_true, y_pred):\n",
    "    \n",
    "    # Корректные ответы:\n",
    "    correct_answers = 0\n",
    "    \n",
    "    for i in range(y_true.shape[0]):\n",
    "        if y_true[i]==y_pred[i]:\n",
    "            correct_answers += 1\n",
    "    return correct_answers / y_true.shape[0]"
   ]
  },
  {
   "cell_type": "code",
   "execution_count": 14,
   "id": "542e0bbf",
   "metadata": {},
   "outputs": [],
   "source": [
    "# Функция вычисления точности логистической регрессии\n",
    "def precision(y_true, y_pred, target_class=1):\n",
    "    \n",
    "    # Правильные ответы:\n",
    "    correct_answers = 0\n",
    "    \n",
    "    # Все ответы для данного класса:\n",
    "    total_answers_for_target_class = 0\n",
    "    \n",
    "    for i in range(y_true.shape[0]):\n",
    "        if y_pred[i] == target_class:\n",
    "            total_answers_for_target_class += 1\n",
    "            if y_true[i] == target_class:\n",
    "                correct_answers += 1\n",
    "    \n",
    "    # Защита от дурака:\n",
    "    if total_answers_for_target_class == 0:\n",
    "        return np.inf\n",
    "    else:\n",
    "        return correct_answers / total_answers_for_target_class      "
   ]
  },
  {
   "cell_type": "code",
   "execution_count": 15,
   "id": "b0375bc0",
   "metadata": {},
   "outputs": [],
   "source": [
    "# Функция вычисления полноты логистической регрессии\n",
    "def recall(y_true, y_pred, target_class=1):\n",
    "    \n",
    "     # Правильные ответы:\n",
    "    correct_answers = 0\n",
    "    \n",
    "    # Все ответы для данного класса:\n",
    "    total_answers_for_target_class = 0\n",
    "    \n",
    "    for i in range(y_true.shape[0]):\n",
    "        if y_true[i] == target_class:\n",
    "            total_answers_for_target_class += 1\n",
    "            if y_pred[i] == target_class:\n",
    "                correct_answers += 1\n",
    "    \n",
    "    # Защита от дурака:\n",
    "    if total_answers_for_target_class == 0:\n",
    "        return np.inf\n",
    "    else:\n",
    "        return correct_answers / total_answers_for_target_class   "
   ]
  },
  {
   "cell_type": "code",
   "execution_count": 16,
   "id": "afa4042c",
   "metadata": {},
   "outputs": [],
   "source": [
    "# Функция вычисления F - меры\n",
    "def f_score(y_true, y_pred, target_class, betta = 1):\n",
    "    recall_target_class = recall(y_true, y_pred, target_class=target_class)\n",
    "    precision_target_class = precision(y_true, y_pred, target_class=target_class)\n",
    "    \n",
    "    # Защита от дурака:\n",
    "    if betta**2 * precision_target_class + recall_target_class == 0:\n",
    "        return np.inf\n",
    "    else:\n",
    "        return (1 + betta**2) * precision_target_class * recall_target_class / (betta**2 * precision_target_class + recall_target_class)"
   ]
  },
  {
   "cell_type": "code",
   "execution_count": 17,
   "id": "1758c7d1",
   "metadata": {},
   "outputs": [],
   "source": [
    "accuracy_train = round(accuracy(Y_train, y_pred_train), 3)\n",
    "precision_train_first = round(precision(Y_train, y_pred_train, 1), 3)\n",
    "recall_train_first = round(recall(Y_train, y_pred_train, 1), 3)\n",
    "f_score_train_first = round(f_score(Y_train, y_pred_train, 1, betta = 0), 3)\n",
    "\n",
    "precision_train_zero = round(precision(Y_train, y_pred_train, 0), 3)\n",
    "recall_train_zero = round(recall(Y_train, y_pred_train, 0), 3)\n",
    "f_score_train_zero = round(f_score(Y_train, y_pred_train, 0, betta = 0), 3)"
   ]
  },
  {
   "cell_type": "code",
   "execution_count": 18,
   "id": "3e38db66",
   "metadata": {},
   "outputs": [],
   "source": [
    "accuracy_test = round(accuracy(Y_test, y_pred_test), 3)\n",
    "precision_test_first = round(precision(Y_test, y_pred_test, 1), 3)\n",
    "recall_test_first = round(recall(Y_test, y_pred_test, 1), 3)\n",
    "f_score_test_first = round(f_score(Y_test, y_pred_test, 1, betta = 0), 3)\n",
    "\n",
    "precision_test_zero = round(precision(Y_test, y_pred_test, 0), 3)\n",
    "recall_test_zero = round(recall(Y_test, y_pred_test, 0), 3)\n",
    "f_score_test_zero = round(f_score(Y_test, y_pred_test, 0, betta = 0), 3)"
   ]
  },
  {
   "cell_type": "markdown",
   "id": "b52380df",
   "metadata": {},
   "source": [
    "### Выводы:"
   ]
  },
  {
   "cell_type": "code",
   "execution_count": 19,
   "id": "b3876b9e",
   "metadata": {},
   "outputs": [
    {
     "name": "stdout",
     "output_type": "stream",
     "text": [
      "На обучающей выборке для первого класса:\n",
      "accuracy = 0.903\n",
      "precision = 0.83\n",
      "recall = 0.83\n",
      "f_score(betta=1) = 0.83\n"
     ]
    }
   ],
   "source": [
    "print(f'На обучающей выборке для первого класса:\\naccuracy = {accuracy_train}\\nprecision = {precision_train_first}\\nrecall = {recall_train_first}\\nf_score(betta=1) = {f_score_train_first}')"
   ]
  },
  {
   "cell_type": "code",
   "execution_count": 20,
   "id": "98657bbc",
   "metadata": {},
   "outputs": [
    {
     "name": "stdout",
     "output_type": "stream",
     "text": [
      "На обучающей выборке для нулевого класса:\n",
      "accuracy = 0.903\n",
      "precision = 0.932\n",
      "recall = 0.932\n",
      "f_score(betta=1) = 0.932\n"
     ]
    }
   ],
   "source": [
    "print(f'На обучающей выборке для нулевого класса:\\naccuracy = {accuracy_train}\\nprecision = {precision_train_zero}\\nrecall = {recall_train_zero}\\nf_score(betta=1) = {f_score_train_zero}')"
   ]
  },
  {
   "cell_type": "code",
   "execution_count": 21,
   "id": "bcc080c0",
   "metadata": {},
   "outputs": [
    {
     "name": "stdout",
     "output_type": "stream",
     "text": [
      "На тестовой выборке для первого класса:\n",
      "accuracy = 0.873\n",
      "precision = 0.905\n",
      "recall = 0.717\n",
      "f_score(betta=1) = 0.905\n"
     ]
    }
   ],
   "source": [
    "print(f'На тестовой выборке для первого класса:\\naccuracy = {accuracy_test}\\nprecision = {precision_test_first}\\nrecall = {recall_test_first}\\nf_score(betta=1) = {f_score_test_first}')"
   ]
  },
  {
   "cell_type": "code",
   "execution_count": 22,
   "id": "74a7e330",
   "metadata": {},
   "outputs": [
    {
     "name": "stdout",
     "output_type": "stream",
     "text": [
      "На тестовой выборке для нулевого класса:\n",
      "accuracy = 0.873\n",
      "precision = 0.861\n",
      "recall = 0.959\n",
      "f_score(betta=1) = 0.861\n"
     ]
    }
   ],
   "source": [
    "print(f'На тестовой выборке для нулевого класса:\\naccuracy = {accuracy_test}\\nprecision = {precision_test_zero}\\nrecall = {recall_test_zero}\\nf_score(betta=1) = {f_score_test_zero}')"
   ]
  },
  {
   "cell_type": "code",
   "execution_count": 23,
   "id": "af2e7d81",
   "metadata": {},
   "outputs": [
    {
     "name": "stdout",
     "output_type": "stream",
     "text": [
      "Итоговые веса равны: [0.20534676 2.29042598]\n"
     ]
    }
   ],
   "source": [
    "print(f'Итоговые веса равны: {w}')"
   ]
  },
  {
   "cell_type": "markdown",
   "id": "478f3d46",
   "metadata": {},
   "source": [
    "### Все метрики > 0.7, следовательно, классификация прошла успешно. В целях улучшения результата можно попробовать воспользоваться L2 регуляризацией."
   ]
  }
 ],
 "metadata": {
  "kernelspec": {
   "display_name": "Python 3 (ipykernel)",
   "language": "python",
   "name": "python3"
  },
  "language_info": {
   "codemirror_mode": {
    "name": "ipython",
    "version": 3
   },
   "file_extension": ".py",
   "mimetype": "text/x-python",
   "name": "python",
   "nbconvert_exporter": "python",
   "pygments_lexer": "ipython3",
   "version": "3.9.12"
  }
 },
 "nbformat": 4,
 "nbformat_minor": 5
}
